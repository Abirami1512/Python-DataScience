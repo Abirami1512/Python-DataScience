{
 "cells": [
  {
   "cell_type": "code",
   "execution_count": 1,
   "id": "3472aff4",
   "metadata": {},
   "outputs": [],
   "source": [
    "import numpy as np"
   ]
  },
  {
   "cell_type": "code",
   "execution_count": 7,
   "id": "28bcc2a3",
   "metadata": {},
   "outputs": [
    {
     "name": "stdout",
     "output_type": "stream",
     "text": [
      "[5 6 7]\n"
     ]
    }
   ],
   "source": [
    "a1 = np.array([5,6,7])\n",
    "print(a1)"
   ]
  },
  {
   "cell_type": "code",
   "execution_count": 8,
   "id": "8b147158",
   "metadata": {},
   "outputs": [
    {
     "name": "stdout",
     "output_type": "stream",
     "text": [
      "5\n",
      "7\n"
     ]
    }
   ],
   "source": [
    "print(a1[0])\n",
    "print(a1[2])"
   ]
  },
  {
   "cell_type": "code",
   "execution_count": 9,
   "id": "492eeec0",
   "metadata": {},
   "outputs": [
    {
     "name": "stdout",
     "output_type": "stream",
     "text": [
      "2\n"
     ]
    }
   ],
   "source": [
    "# 2 dimensional array\n",
    "\n",
    "a = np.array([[1,2],[3,4],[5,6]])\n",
    "print(a.ndim) # ndim - property"
   ]
  },
  {
   "cell_type": "code",
   "execution_count": 6,
   "id": "17e2e117",
   "metadata": {},
   "outputs": [
    {
     "name": "stdout",
     "output_type": "stream",
     "text": [
      "[1 2]\n",
      "4\n"
     ]
    }
   ],
   "source": [
    "print(a[0])\n",
    "print(a[1,1])"
   ]
  },
  {
   "cell_type": "code",
   "execution_count": 11,
   "id": "b2dd9a0f",
   "metadata": {},
   "outputs": [
    {
     "name": "stdout",
     "output_type": "stream",
     "text": [
      "4\n"
     ]
    }
   ],
   "source": [
    "print(a.itemsize) # integers 4 bytes long"
   ]
  },
  {
   "cell_type": "code",
   "execution_count": 14,
   "id": "77f8a8f5",
   "metadata": {},
   "outputs": [
    {
     "name": "stdout",
     "output_type": "stream",
     "text": [
      "hello\n",
      "world\n"
     ]
    }
   ],
   "source": [
    "a2 = np.array([\"hello\",\"world\"])\n",
    "print(a2[0])\n",
    "print(a2[1])"
   ]
  },
  {
   "cell_type": "code",
   "execution_count": 19,
   "id": "f9a379ba",
   "metadata": {},
   "outputs": [
    {
     "name": "stdout",
     "output_type": "stream",
     "text": [
      "['hello' '1']\n",
      "<U11\n"
     ]
    }
   ],
   "source": [
    "a3 = np.array([\"hello\",1])\n",
    "print(a3) # both values are stored as strings?\n",
    "print(a3.dtype)"
   ]
  },
  {
   "cell_type": "code",
   "execution_count": 20,
   "id": "7ac6f28f",
   "metadata": {},
   "outputs": [
    {
     "name": "stdout",
     "output_type": "stream",
     "text": [
      "6\n",
      "3\n",
      "2\n",
      "2\n"
     ]
    }
   ],
   "source": [
    "print(a.size)\n",
    "print(a1.size)\n",
    "print(a2.size)\n",
    "print(a3.size)"
   ]
  },
  {
   "cell_type": "code",
   "execution_count": 21,
   "id": "d0ce1b63",
   "metadata": {},
   "outputs": [
    {
     "name": "stdout",
     "output_type": "stream",
     "text": [
      "(3, 2)\n"
     ]
    }
   ],
   "source": [
    "print(a.shape) # height and width"
   ]
  },
  {
   "cell_type": "code",
   "execution_count": 24,
   "id": "dd79eb80",
   "metadata": {},
   "outputs": [
    {
     "name": "stdout",
     "output_type": "stream",
     "text": [
      "[[1. 2.]\n",
      " [3. 4.]\n",
      " [5. 6.]]\n",
      " \n",
      "[[1.+0.j 2.+0.j]\n",
      " [3.+0.j 4.+0.j]\n",
      " [5.+0.j 6.+0.j]]\n"
     ]
    }
   ],
   "source": [
    "a4 = np.array([[1,2],[3,4],[5,6]], dtype = np.float64 )\n",
    "a5 = np.array([[1,2],[3,4],[5,6]], dtype = complex )\n",
    "\n",
    "print(a4)\n",
    "print(\" \")\n",
    "print(a5)"
   ]
  },
  {
   "cell_type": "code",
   "execution_count": 25,
   "id": "a5a5706e",
   "metadata": {},
   "outputs": [
    {
     "name": "stdout",
     "output_type": "stream",
     "text": [
      "[[0. 0. 0. 0.]\n",
      " [0. 0. 0. 0.]\n",
      " [0. 0. 0. 0.]]\n"
     ]
    }
   ],
   "source": [
    "# array with placeholders\n",
    "\n",
    "a6 = np.zeros((3,4)) # argument - shape of the array\n",
    "print(a6)"
   ]
  },
  {
   "cell_type": "code",
   "execution_count": 26,
   "id": "60152721",
   "metadata": {},
   "outputs": [
    {
     "name": "stdout",
     "output_type": "stream",
     "text": [
      "range(0, 5)\n"
     ]
    }
   ],
   "source": [
    "l = range(5) # creates a list of given range\n",
    "print(l)"
   ]
  },
  {
   "cell_type": "code",
   "execution_count": 27,
   "id": "11789722",
   "metadata": {},
   "outputs": [
    {
     "name": "stdout",
     "output_type": "stream",
     "text": [
      "0\n",
      "1\n",
      "2\n",
      "3\n",
      "4\n"
     ]
    }
   ],
   "source": [
    "for i in l:\n",
    "    print(i)"
   ]
  },
  {
   "cell_type": "code",
   "execution_count": 28,
   "id": "5cd14166",
   "metadata": {},
   "outputs": [
    {
     "name": "stdout",
     "output_type": "stream",
     "text": [
      "[1 2 3 4]\n"
     ]
    }
   ],
   "source": [
    "# creating an array of given range\n",
    "\n",
    "a = np.arange(1,5)\n",
    "print(a)"
   ]
  },
  {
   "cell_type": "code",
   "execution_count": 29,
   "id": "5e3874c0",
   "metadata": {},
   "outputs": [
    {
     "name": "stdout",
     "output_type": "stream",
     "text": [
      "[0 2 4 6 8]\n"
     ]
    }
   ],
   "source": [
    "a = np.arange(0,10,2)\n",
    "print(a)"
   ]
  },
  {
   "cell_type": "code",
   "execution_count": 30,
   "id": "c0fde633",
   "metadata": {},
   "outputs": [
    {
     "name": "stdout",
     "output_type": "stream",
     "text": [
      "[1.         1.44444444 1.88888889 2.33333333 2.77777778 3.22222222\n",
      " 3.66666667 4.11111111 4.55555556 5.        ]\n"
     ]
    }
   ],
   "source": [
    "a = np.linspace(1,5,10) # creates an array of 10 numbers between 1 and 5 and it will be linearly spaced\n",
    "print(a)"
   ]
  },
  {
   "cell_type": "code",
   "execution_count": 31,
   "id": "634a1831",
   "metadata": {},
   "outputs": [
    {
     "name": "stdout",
     "output_type": "stream",
     "text": [
      "[1. 2. 3. 4. 5.]\n"
     ]
    }
   ],
   "source": [
    "a = np.linspace(1,5,5)\n",
    "print(a)"
   ]
  },
  {
   "cell_type": "code",
   "execution_count": 42,
   "id": "63b571f1",
   "metadata": {},
   "outputs": [
    {
     "name": "stdout",
     "output_type": "stream",
     "text": [
      "[[1. 2.]\n",
      " [3. 4.]\n",
      " [5. 6.]]\n",
      "[[1. 2. 3.]\n",
      " [4. 5. 6.]]\n"
     ]
    }
   ],
   "source": [
    "print(a4)\n",
    "print(a4.reshape(2,3))\n",
    "\n",
    "#print(a5)\n",
    "#a5.reshape(2,4) not compatible"
   ]
  },
  {
   "cell_type": "code",
   "execution_count": 44,
   "id": "c29d82ce",
   "metadata": {},
   "outputs": [
    {
     "name": "stdout",
     "output_type": "stream",
     "text": [
      "[1. 2. 3. 4. 5. 6.]\n",
      "[[1. 2.]\n",
      " [3. 4.]\n",
      " [5. 6.]]\n"
     ]
    }
   ],
   "source": [
    "# flattening an array\n",
    "print(a4.ravel()) # will not touch the original array\n",
    "print(a4)"
   ]
  },
  {
   "cell_type": "code",
   "execution_count": 45,
   "id": "8b3a692d",
   "metadata": {},
   "outputs": [
    {
     "name": "stdout",
     "output_type": "stream",
     "text": [
      "1.0\n",
      "6.0\n",
      "21.0\n"
     ]
    }
   ],
   "source": [
    "# math functions\n",
    "\n",
    "print(a4.min())\n",
    "print(a4.max())\n",
    "print(a4.sum())"
   ]
  },
  {
   "cell_type": "code",
   "execution_count": 46,
   "id": "00407de2",
   "metadata": {},
   "outputs": [
    {
     "name": "stdout",
     "output_type": "stream",
     "text": [
      "[1. 2.]\n",
      "[2. 4. 6.]\n",
      "[ 9. 12.]\n"
     ]
    }
   ],
   "source": [
    "# axis \n",
    "# axis = 0 (same column values are taken together)\n",
    "# axis = 1 (same row values are taken together)\n",
    "\n",
    "print(a4.min(axis = 0))\n",
    "print(a4.max(axis = 1))\n",
    "print(a4.sum(axis = 0))"
   ]
  },
  {
   "cell_type": "code",
   "execution_count": 49,
   "id": "392eb15a",
   "metadata": {},
   "outputs": [
    {
     "name": "stdout",
     "output_type": "stream",
     "text": [
      "[1. 2. 3. 4. 5.]\n",
      "[1.         1.41421356 1.73205081 2.         2.23606798]\n"
     ]
    }
   ],
   "source": [
    "print(a)\n",
    "print(np.sqrt(a)) # generic method"
   ]
  },
  {
   "cell_type": "code",
   "execution_count": 50,
   "id": "25d0de57",
   "metadata": {},
   "outputs": [
    {
     "name": "stdout",
     "output_type": "stream",
     "text": [
      "[[ 6  8]\n",
      " [10 12]]\n",
      " \n",
      "[[-4 -4]\n",
      " [-4 -4]]\n",
      " \n",
      "[[ 5 12]\n",
      " [21 32]]\n",
      " \n",
      "[[0.2        0.33333333]\n",
      " [0.42857143 0.5       ]]\n",
      " \n"
     ]
    }
   ],
   "source": [
    "a1 = np.array([[1,2],[3,4]])\n",
    "a2 = np.array([[5,6],[7,8]])\n",
    "\n",
    "print(a1+a2)\n",
    "print(\" \")\n",
    "\n",
    "print(a1-a2)\n",
    "print(\" \")\n",
    "\n",
    "print(a1*a2) # individual elements are multiplied\n",
    "print(\" \")\n",
    "\n",
    "print(a1/a2)# individual elements are divided\n",
    "print(\" \")\n"
   ]
  },
  {
   "cell_type": "code",
   "execution_count": 53,
   "id": "fd4e9001",
   "metadata": {},
   "outputs": [
    {
     "name": "stdout",
     "output_type": "stream",
     "text": [
      "[[19 22]\n",
      " [43 50]]\n"
     ]
    }
   ],
   "source": [
    "print(a1.dot(a2)) # matrix multiplication"
   ]
  },
  {
   "cell_type": "code",
   "execution_count": null,
   "id": "e9c50d7c",
   "metadata": {},
   "outputs": [],
   "source": []
  }
 ],
 "metadata": {
  "kernelspec": {
   "display_name": "Python 3 (ipykernel)",
   "language": "python",
   "name": "python3"
  },
  "language_info": {
   "codemirror_mode": {
    "name": "ipython",
    "version": 3
   },
   "file_extension": ".py",
   "mimetype": "text/x-python",
   "name": "python",
   "nbconvert_exporter": "python",
   "pygments_lexer": "ipython3",
   "version": "3.9.13"
  }
 },
 "nbformat": 4,
 "nbformat_minor": 5
}
