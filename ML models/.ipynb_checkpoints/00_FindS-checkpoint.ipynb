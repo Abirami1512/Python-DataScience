{
 "cells": [
  {
   "cell_type": "code",
   "execution_count": 1,
   "id": "23c4aee1-ab68-45b4-92e3-21d0ee2a5397",
   "metadata": {},
   "outputs": [
    {
     "name": "stdout",
     "output_type": "stream",
     "text": [
      "   Sno  colour Toughness Fungus Appearance Poisonous\n",
      "0    1   Green      Hard     No   Wrinkled       Yes\n",
      "1    2   Green      Hard    Yes     Smooth        No\n",
      "2    3   Brown      soft     No   Wrinkled        No\n",
      "3    4  Orange      Hard     No   Wrinkled       Yes\n",
      "4    5  Green       soft    Yes     Smooth       Yes\n",
      "5    6   Green      Hard    Yes   Wrinkled       Yes\n",
      "6    7  Orange      Hard     No   Wrinkled       Yes\n",
      "7    8   Green      Hard     No   Wrinkled        No\n"
     ]
    }
   ],
   "source": [
    "import numpy as np\n",
    "import pandas as pd\n",
    "\n",
    "data = pd.read_csv('Fungus.csv')\n",
    "print(data)"
   ]
  },
  {
   "cell_type": "code",
   "execution_count": null,
   "id": "51c3707d-0c6b-4745-8ef7-bfad4334b6c1",
   "metadata": {},
   "outputs": [],
   "source": []
  }
 ],
 "metadata": {
  "kernelspec": {
   "display_name": "Python 3 (ipykernel)",
   "language": "python",
   "name": "python3"
  },
  "language_info": {
   "codemirror_mode": {
    "name": "ipython",
    "version": 3
   },
   "file_extension": ".py",
   "mimetype": "text/x-python",
   "name": "python",
   "nbconvert_exporter": "python",
   "pygments_lexer": "ipython3",
   "version": "3.9.13"
  }
 },
 "nbformat": 4,
 "nbformat_minor": 5
}
