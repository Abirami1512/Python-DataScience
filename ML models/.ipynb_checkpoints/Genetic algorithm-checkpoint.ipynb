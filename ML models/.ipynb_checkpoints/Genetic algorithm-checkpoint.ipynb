{
 "cells": [
  {
   "cell_type": "code",
   "execution_count": 1,
   "id": "c9e87154",
   "metadata": {},
   "outputs": [
    {
     "name": "stdout",
     "output_type": "stream",
     "text": [
      "Collecting pygad\n",
      "  Downloading pygad-3.0.1-py3-none-any.whl (67 kB)\n",
      "     ---------------------------------------- 68.0/68.0 kB 1.2 MB/s eta 0:00:00\n",
      "Requirement already satisfied: numpy in d:\\anaconda3\\lib\\site-packages (from pygad) (1.21.5)\n",
      "Requirement already satisfied: cloudpickle in d:\\anaconda3\\lib\\site-packages (from pygad) (2.0.0)\n",
      "Requirement already satisfied: matplotlib in d:\\anaconda3\\lib\\site-packages (from pygad) (3.5.2)\n",
      "Requirement already satisfied: cycler>=0.10 in d:\\anaconda3\\lib\\site-packages (from matplotlib->pygad) (0.11.0)\n",
      "Requirement already satisfied: pillow>=6.2.0 in d:\\anaconda3\\lib\\site-packages (from matplotlib->pygad) (9.2.0)\n",
      "Requirement already satisfied: packaging>=20.0 in d:\\anaconda3\\lib\\site-packages (from matplotlib->pygad) (21.3)\n",
      "Requirement already satisfied: kiwisolver>=1.0.1 in d:\\anaconda3\\lib\\site-packages (from matplotlib->pygad) (1.4.2)\n",
      "Requirement already satisfied: pyparsing>=2.2.1 in d:\\anaconda3\\lib\\site-packages (from matplotlib->pygad) (3.0.9)\n",
      "Requirement already satisfied: fonttools>=4.22.0 in d:\\anaconda3\\lib\\site-packages (from matplotlib->pygad) (4.25.0)\n",
      "Requirement already satisfied: python-dateutil>=2.7 in d:\\anaconda3\\lib\\site-packages (from matplotlib->pygad) (2.8.2)\n",
      "Requirement already satisfied: six>=1.5 in d:\\anaconda3\\lib\\site-packages (from python-dateutil>=2.7->matplotlib->pygad) (1.16.0)\n",
      "Installing collected packages: pygad\n",
      "Successfully installed pygad-3.0.1\n"
     ]
    }
   ],
   "source": [
    "!pip install pygad"
   ]
  },
  {
   "cell_type": "code",
   "execution_count": 8,
   "id": "0552fab9",
   "metadata": {},
   "outputs": [],
   "source": [
    "import pygad\n",
    "import numpy \n",
    "\n",
    "function_input = [4,-2,3.5,5,-11,-4.7]\n",
    "\n",
    "desired_output = 44\n",
    "\n",
    "def fitness_function(ga_instance,solution,solution_idx):\n",
    "    output = numpy.sum(function_input*solution)\n",
    "    fitness = 1.0 / numpy.abs(output - desired_output)\n",
    "    return fitness\n",
    "\n",
    "\n",
    "ga = pygad.GA(num_generations = 50,\n",
    "             num_parents_mating = 4,\n",
    "             fitness_func = fitness_function,\n",
    "             sol_per_pop = 8,\n",
    "             num_genes = len(function_input))"
   ]
  },
  {
   "cell_type": "code",
   "execution_count": 9,
   "id": "dc01d80f",
   "metadata": {},
   "outputs": [],
   "source": [
    "ga.run()"
   ]
  },
  {
   "cell_type": "code",
   "execution_count": 11,
   "id": "c4cacbd4",
   "metadata": {},
   "outputs": [],
   "source": [
    "solution,solution_fitness,solution_idx = ga.best_solution()"
   ]
  },
  {
   "cell_type": "code",
   "execution_count": 13,
   "id": "a893bfcb",
   "metadata": {},
   "outputs": [
    {
     "name": "stdout",
     "output_type": "stream",
     "text": [
      "solution:  [-3.46371222 -3.2055649   2.19565298  2.52304792 -1.86545255 -2.25839929]\n",
      "fitness:  108.2318412624421\n",
      "prediction:  43.99076057481481\n"
     ]
    }
   ],
   "source": [
    "print(\"solution: \",solution)\n",
    "print(\"fitness: \",solution_fitness)\n",
    "\n",
    "pred = numpy.sum(numpy.array(function_input)*solution)\n",
    "print(\"prediction: \",pred)"
   ]
  },
  {
   "cell_type": "code",
   "execution_count": null,
   "id": "ecba9e0c",
   "metadata": {},
   "outputs": [],
   "source": []
  }
 ],
 "metadata": {
  "kernelspec": {
   "display_name": "Python 3 (ipykernel)",
   "language": "python",
   "name": "python3"
  },
  "language_info": {
   "codemirror_mode": {
    "name": "ipython",
    "version": 3
   },
   "file_extension": ".py",
   "mimetype": "text/x-python",
   "name": "python",
   "nbconvert_exporter": "python",
   "pygments_lexer": "ipython3",
   "version": "3.9.13"
  }
 },
 "nbformat": 4,
 "nbformat_minor": 5
}
