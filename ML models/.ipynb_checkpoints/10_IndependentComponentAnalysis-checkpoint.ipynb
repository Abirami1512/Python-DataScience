{
 "cells": [
  {
   "cell_type": "code",
   "execution_count": 1,
   "id": "1766aaa2",
   "metadata": {},
   "outputs": [
    {
     "name": "stdout",
     "output_type": "stream",
     "text": [
      "(1797, 64)\n",
      "(1797,)\n"
     ]
    }
   ],
   "source": [
    "from sklearn.datasets import load_digits\n",
    "X, y = load_digits(return_X_y=True)\n",
    "print(X.shape)\n",
    "print(y.shape)"
   ]
  },
  {
   "cell_type": "code",
   "execution_count": 2,
   "id": "e63ec2e1",
   "metadata": {},
   "outputs": [
    {
     "name": "stdout",
     "output_type": "stream",
     "text": [
      "(1797, 5)\n",
      "(1797,)\n"
     ]
    },
    {
     "data": {
      "text/plain": [
       "array([[-0.01613132,  0.01057197,  0.03902119,  0.03281018,  0.01626677],\n",
       "       [ 0.02539011, -0.02024145, -0.03811565, -0.02451144, -0.01155162],\n",
       "       [ 0.00430126, -0.04271083,  0.00573163, -0.02974286,  0.03502321],\n",
       "       ...,\n",
       "       [ 0.00735491, -0.01736489, -0.01799474, -0.01003947,  0.01594103],\n",
       "       [-0.00777847, -0.01605557,  0.00911176,  0.02060413, -0.02293757],\n",
       "       [-0.02362902, -0.0151194 , -0.01168245, -0.00574047,  0.00736013]])"
      ]
     },
     "execution_count": 2,
     "metadata": {},
     "output_type": "execute_result"
    }
   ],
   "source": [
    "from sklearn.decomposition import FastICA\n",
    "\n",
    "ica = FastICA(n_components = 5)\n",
    "x = ica.fit_transform(X)\n",
    "\n",
    "print(x.shape)\n",
    "print(y.shape)\n",
    "\n",
    "x"
   ]
  },
  {
   "cell_type": "code",
   "execution_count": 5,
   "id": "d240d2b4",
   "metadata": {},
   "outputs": [
    {
     "name": "stdout",
     "output_type": "stream",
     "text": [
      "(1797, 7)\n",
      "(1797,)\n"
     ]
    },
    {
     "data": {
      "text/plain": [
       "array([[-0.02916363,  0.00930685, -0.01874933, ...,  0.01864802,\n",
       "         0.02522931,  0.03724241],\n",
       "       [ 0.01790273,  0.02930425, -0.00918629, ..., -0.01794807,\n",
       "        -0.02373762, -0.037407  ],\n",
       "       [ 0.02473845,  0.03833951,  0.00621852, ..., -0.01323169,\n",
       "        -0.02424447,  0.01418714],\n",
       "       ...,\n",
       "       [ 0.01480656,  0.03366195, -0.01319521, ..., -0.00504234,\n",
       "         0.0055117 , -0.0236123 ],\n",
       "       [ 0.00950598, -0.00237537, -0.00664262, ...,  0.03380449,\n",
       "         0.00339933,  0.00376355],\n",
       "       [ 0.02427779,  0.00748611,  0.01761614, ...,  0.01740688,\n",
       "         0.01990325, -0.01857872]])"
      ]
     },
     "execution_count": 5,
     "metadata": {},
     "output_type": "execute_result"
    }
   ],
   "source": [
    "ica = FastICA(n_components=7, \n",
    "              whiten=\"unit-variance\", # can found in FastICA?\n",
    "              max_iter=2000 # set these to args in case of error\n",
    "             )\n",
    "X = ica.fit_transform(X)\n",
    "print(X.shape)\n",
    "print(y.shape)\n",
    "X"
   ]
  },
  {
   "cell_type": "code",
   "execution_count": 6,
   "id": "14d82a3a",
   "metadata": {},
   "outputs": [],
   "source": []
  }
 ],
 "metadata": {
  "kernelspec": {
   "display_name": "Python 3 (ipykernel)",
   "language": "python",
   "name": "python3"
  },
  "language_info": {
   "codemirror_mode": {
    "name": "ipython",
    "version": 3
   },
   "file_extension": ".py",
   "mimetype": "text/x-python",
   "name": "python",
   "nbconvert_exporter": "python",
   "pygments_lexer": "ipython3",
   "version": "3.9.13"
  }
 },
 "nbformat": 4,
 "nbformat_minor": 5
}
