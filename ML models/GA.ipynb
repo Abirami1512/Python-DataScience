{
 "cells": [
  {
   "cell_type": "code",
   "execution_count": 21,
   "id": "3e457750",
   "metadata": {},
   "outputs": [
    {
     "name": "stdout",
     "output_type": "stream",
     "text": [
      "Collecting pygad\n",
      "  Downloading pygad-3.0.1-py3-none-any.whl (67 kB)\n",
      "\u001b[2K     \u001b[90m━━━━━━━━━━━━━━━━━━━━━━━━━━━━━━━━━━━━━━━\u001b[0m \u001b[32m68.0/68.0 kB\u001b[0m \u001b[31m583.3 kB/s\u001b[0m eta \u001b[36m0:00:00\u001b[0ma \u001b[36m0:00:01\u001b[0m\n",
      "\u001b[?25hRequirement already satisfied: numpy in /Users/rithviksenthil/opt/anaconda3/lib/python3.9/site-packages (from pygad) (1.21.5)\n",
      "Requirement already satisfied: cloudpickle in /Users/rithviksenthil/opt/anaconda3/lib/python3.9/site-packages (from pygad) (2.0.0)\n",
      "Requirement already satisfied: matplotlib in /Users/rithviksenthil/opt/anaconda3/lib/python3.9/site-packages (from pygad) (3.5.2)\n",
      "Requirement already satisfied: fonttools>=4.22.0 in /Users/rithviksenthil/opt/anaconda3/lib/python3.9/site-packages (from matplotlib->pygad) (4.25.0)\n",
      "Requirement already satisfied: python-dateutil>=2.7 in /Users/rithviksenthil/opt/anaconda3/lib/python3.9/site-packages (from matplotlib->pygad) (2.8.2)\n",
      "Requirement already satisfied: packaging>=20.0 in /Users/rithviksenthil/opt/anaconda3/lib/python3.9/site-packages (from matplotlib->pygad) (21.3)\n",
      "Requirement already satisfied: pillow>=6.2.0 in /Users/rithviksenthil/opt/anaconda3/lib/python3.9/site-packages (from matplotlib->pygad) (9.2.0)\n",
      "Requirement already satisfied: cycler>=0.10 in /Users/rithviksenthil/opt/anaconda3/lib/python3.9/site-packages (from matplotlib->pygad) (0.11.0)\n",
      "Requirement already satisfied: pyparsing>=2.2.1 in /Users/rithviksenthil/opt/anaconda3/lib/python3.9/site-packages (from matplotlib->pygad) (3.0.9)\n",
      "Requirement already satisfied: kiwisolver>=1.0.1 in /Users/rithviksenthil/opt/anaconda3/lib/python3.9/site-packages (from matplotlib->pygad) (1.4.2)\n",
      "Requirement already satisfied: six>=1.5 in /Users/rithviksenthil/opt/anaconda3/lib/python3.9/site-packages (from python-dateutil>=2.7->matplotlib->pygad) (1.16.0)\n",
      "Installing collected packages: pygad\n",
      "Successfully installed pygad-3.0.1\n"
     ]
    }
   ],
   "source": [
    "!pip install pygad\n"
   ]
  },
  {
   "cell_type": "code",
   "execution_count": 35,
   "id": "aa247c36",
   "metadata": {},
   "outputs": [
    {
     "name": "stderr",
     "output_type": "stream",
     "text": [
      "/Users/rithviksenthil/opt/anaconda3/lib/python3.9/site-packages/pygad/pygad.py:623: UserWarning: The percentage of genes to mutate (mutation_percent_genes=10) resutled in selecting (0) genes. The number of genes to mutate is set to 1 (mutation_num_genes=1).\n",
      "If you do not want to mutate any gene, please set mutation_type=None.\n",
      "  if not self.suppress_warnings: warnings.warn(\"The percentage of genes to mutate (mutation_percent_genes={mutation_percent}) resutled in selecting ({mutation_num}) genes. The number of genes to mutate is set to 1 (mutation_num_genes=1).\\nIf you do not want to mutate any gene, please set mutation_type=None.\".format(mutation_percent=mutation_percent_genes, mutation_num=mutation_num_genes))\n"
     ]
    }
   ],
   "source": [
    "import pygad\n",
    "\n",
    "\n",
    "function_inputs = [4,-2,3.5,5,-11,-4.7]\n",
    "#y=4w1-2w2+3.5w3\n",
    "\n",
    "\n",
    "\n",
    "desired_output = 44\n",
    "\n",
    "def fitness_func(ga_instance, solution, solution_idx):\n",
    "    output = numpy.sum(solution*function_inputs)\n",
    "    fitness = 1.0 / numpy.abs(output - desired_output)\n",
    "    return fitness\n",
    "\n",
    "fitness_function = fitness_func\n",
    "\n",
    "num_generations = 50\n",
    "num_parents_mating = 4\n",
    "\n",
    "sol_per_pop = 8\n",
    "num_genes = len(function_inputs)\n",
    "\n",
    "#init_range_low = -2 #-4\n",
    "#init_range_high = 5\n",
    "\n",
    "#parent_selection_type = \"sss\"\n",
    "#keep_parents = 1\n",
    "\n",
    "#crossover_type = \"single_point\"\n",
    "\n",
    "#mutation_type = \"random\"\n",
    "#mutation_percent_genes = 10\n",
    "\n",
    "ga_instance = pygad.GA(num_generations=num_generations,\n",
    "                       num_parents_mating=num_parents_mating,\n",
    "                       fitness_func=fitness_function,\n",
    "                       sol_per_pop=sol_per_pop,\n",
    "                       num_genes=num_genes,\n",
    "                       )"
   ]
  },
  {
   "cell_type": "code",
   "execution_count": 36,
   "id": "6d9f03c1",
   "metadata": {},
   "outputs": [],
   "source": [
    "ga_instance.run()\n"
   ]
  },
  {
   "cell_type": "code",
   "execution_count": 37,
   "id": "f40b31a8",
   "metadata": {},
   "outputs": [
    {
     "name": "stdout",
     "output_type": "stream",
     "text": [
      "Parameters of the best solution : [ 0.22687323 -2.54930014  2.8267219   2.33169849 -0.30877002 -2.77767083]\n",
      "Fitness value of the best solution = 103.78410090131904\n",
      "Predicted output based on the best solution : 44.00963538722517\n"
     ]
    }
   ],
   "source": [
    "solution, solution_fitness, solution_idx = ga_instance.best_solution()\n",
    "print(\"Parameters of the best solution : {solution}\".format(solution=solution))\n",
    "print(\"Fitness value of the best solution = {solution_fitness}\".format(solution_fitness=solution_fitness))\n",
    "\n",
    "prediction = numpy.sum(numpy.array(function_inputs)*solution)\n",
    "print(\"Predicted output based on the best solution : {prediction}\".format(prediction=prediction))"
   ]
  },
  {
   "cell_type": "code",
   "execution_count": 30,
   "id": "97f2eb20",
   "metadata": {},
   "outputs": [],
   "source": [
    "pygad.GA?"
   ]
  },
  {
   "cell_type": "code",
   "execution_count": null,
   "id": "96deebdb",
   "metadata": {},
   "outputs": [],
   "source": []
  }
 ],
 "metadata": {
  "kernelspec": {
   "display_name": "Python 3 (ipykernel)",
   "language": "python",
   "name": "python3"
  },
  "language_info": {
   "codemirror_mode": {
    "name": "ipython",
    "version": 3
   },
   "file_extension": ".py",
   "mimetype": "text/x-python",
   "name": "python",
   "nbconvert_exporter": "python",
   "pygments_lexer": "ipython3",
   "version": "3.9.13"
  }
 },
 "nbformat": 4,
 "nbformat_minor": 5
}
