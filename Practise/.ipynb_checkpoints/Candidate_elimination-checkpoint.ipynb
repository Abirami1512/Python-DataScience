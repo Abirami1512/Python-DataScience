{
 "cells": [
  {
   "cell_type": "code",
   "execution_count": 1,
   "id": "1c7ff87b",
   "metadata": {},
   "outputs": [],
   "source": [
    "import numpy as np\n",
    "import pandas as pd"
   ]
  },
  {
   "cell_type": "code",
   "execution_count": 17,
   "id": "7589f007",
   "metadata": {},
   "outputs": [
    {
     "data": {
      "text/html": [
       "<div>\n",
       "<style scoped>\n",
       "    .dataframe tbody tr th:only-of-type {\n",
       "        vertical-align: middle;\n",
       "    }\n",
       "\n",
       "    .dataframe tbody tr th {\n",
       "        vertical-align: top;\n",
       "    }\n",
       "\n",
       "    .dataframe thead th {\n",
       "        text-align: right;\n",
       "    }\n",
       "</style>\n",
       "<table border=\"1\" class=\"dataframe\">\n",
       "  <thead>\n",
       "    <tr style=\"text-align: right;\">\n",
       "      <th></th>\n",
       "      <th>state</th>\n",
       "      <th>AccountType</th>\n",
       "      <th>Education</th>\n",
       "      <th>Employment</th>\n",
       "      <th>Application on</th>\n",
       "      <th>Y/N</th>\n",
       "    </tr>\n",
       "  </thead>\n",
       "  <tbody>\n",
       "    <tr>\n",
       "      <th>0</th>\n",
       "      <td>MP</td>\n",
       "      <td>NaN</td>\n",
       "      <td>Bachelor</td>\n",
       "      <td>Employed</td>\n",
       "      <td>Online</td>\n",
       "      <td>Yes</td>\n",
       "    </tr>\n",
       "    <tr>\n",
       "      <th>1</th>\n",
       "      <td>MP</td>\n",
       "      <td>Savings</td>\n",
       "      <td>Doctorate</td>\n",
       "      <td>Unemployed</td>\n",
       "      <td>Offline</td>\n",
       "      <td>No</td>\n",
       "    </tr>\n",
       "    <tr>\n",
       "      <th>2</th>\n",
       "      <td>MP</td>\n",
       "      <td>Savings</td>\n",
       "      <td>Bachelor</td>\n",
       "      <td>Employed</td>\n",
       "      <td>Online</td>\n",
       "      <td>Yes</td>\n",
       "    </tr>\n",
       "    <tr>\n",
       "      <th>3</th>\n",
       "      <td>MH</td>\n",
       "      <td>Current</td>\n",
       "      <td>Master</td>\n",
       "      <td>Employed</td>\n",
       "      <td>Online</td>\n",
       "      <td>No</td>\n",
       "    </tr>\n",
       "    <tr>\n",
       "      <th>4</th>\n",
       "      <td>MP</td>\n",
       "      <td>NaN</td>\n",
       "      <td>Doctorate</td>\n",
       "      <td>Employed</td>\n",
       "      <td>Online</td>\n",
       "      <td>Yes</td>\n",
       "    </tr>\n",
       "    <tr>\n",
       "      <th>5</th>\n",
       "      <td>MP</td>\n",
       "      <td>Savings</td>\n",
       "      <td>Doctorate</td>\n",
       "      <td>Unemployed</td>\n",
       "      <td>Online</td>\n",
       "      <td>Yes</td>\n",
       "    </tr>\n",
       "    <tr>\n",
       "      <th>6</th>\n",
       "      <td>MP</td>\n",
       "      <td>NaN</td>\n",
       "      <td>Master</td>\n",
       "      <td>Unemployed</td>\n",
       "      <td>Offline</td>\n",
       "      <td>No</td>\n",
       "    </tr>\n",
       "  </tbody>\n",
       "</table>\n",
       "</div>"
      ],
      "text/plain": [
       "  state AccountType  Education  Employment Application on  Y/N\n",
       "0    MP         NaN   Bachelor    Employed         Online  Yes\n",
       "1    MP     Savings  Doctorate  Unemployed        Offline   No\n",
       "2    MP     Savings   Bachelor    Employed         Online  Yes\n",
       "3    MH     Current     Master    Employed         Online   No\n",
       "4    MP         NaN  Doctorate    Employed         Online  Yes\n",
       "5    MP     Savings  Doctorate  Unemployed         Online  Yes\n",
       "6    MP         NaN     Master  Unemployed        Offline   No"
      ]
     },
     "execution_count": 17,
     "metadata": {},
     "output_type": "execute_result"
    }
   ],
   "source": [
    "data = pd.read_csv(\"Candidate.csv\")\n",
    "data"
   ]
  },
  {
   "cell_type": "code",
   "execution_count": 21,
   "id": "dc1d0668",
   "metadata": {},
   "outputs": [
    {
     "name": "stdout",
     "output_type": "stream",
     "text": [
      "[['MP' nan 'Bachelor' 'Employed' 'Online']\n",
      " ['MP' 'Savings' 'Doctorate' 'Unemployed' 'Offline']\n",
      " ['MP' 'Savings' 'Bachelor' 'Employed' 'Online']\n",
      " ['MH' 'Current' 'Master' 'Employed' 'Online']\n",
      " ['MP' nan 'Doctorate' 'Employed' 'Online']\n",
      " ['MP' 'Savings' 'Doctorate' 'Unemployed' 'Online']\n",
      " ['MP' nan 'Master' 'Unemployed' 'Offline']] \n",
      "\n",
      "['Yes' 'No' 'Yes' 'No' 'Yes' 'Yes' 'No']\n"
     ]
    }
   ],
   "source": [
    "concepts = np.array(data)[:,0:-1]\n",
    "target = np.array(data)[:,-1]\n",
    "\n",
    "print(concepts,\"\\n\")\n",
    "print(target)"
   ]
  },
  {
   "cell_type": "code",
   "execution_count": 66,
   "id": "eae0a677",
   "metadata": {},
   "outputs": [
    {
     "name": "stdout",
     "output_type": "stream",
     "text": [
      "sh:  ['MP' nan 'Bachelor' 'Employed' 'Online'] \n",
      "\n",
      "gh:  [['?', '?', '?', '?', '?'], ['?', '?', '?', '?', '?'], ['?', '?', '?', '?', '?'], ['?', '?', '?', '?', '?'], ['?', '?', '?', '?', '?']] \n",
      "\n",
      "general: [['?', '?', '?', '?', '?'], ['?', '?', '?', '?', '?'], ['?', '?', '?', '?', '?'], ['?', '?', '?', '?', '?'], ['?', '?', '?', '?', 'Online']]\n",
      "specific: ['MP' '?' '?' '?' 'Online']\n"
     ]
    }
   ],
   "source": [
    "def learn(con,tar):\n",
    "    #initialize sh\n",
    "    sh = con[0].copy()\n",
    "    #initialize gh\n",
    "    gh = [['?' for i in range(len(sh))] for i in range(len(sh))]\n",
    "    print(\"sh: \",sh,\"\\n\")\n",
    "    print(\"gh: \",gh,\"\\n\")\n",
    "    \n",
    "    i=0\n",
    "    for i,h in enumerate(con):\n",
    "        if tar[i] == 'Yes':\n",
    "            for x in range(len(sh)):\n",
    "                if h[x] != sh[x]:\n",
    "                    sh[x] = '?'\n",
    "                    gh[x][x] = '?'\n",
    "        \n",
    "        if tar[i] == 'No':\n",
    "            for x in range(len(sh)):\n",
    "                if h[x] != sh[x]:\n",
    "                    gh[x][x] = sh[x]\n",
    "                else:\n",
    "                    gh[x][x] = '?'\n",
    "    \n",
    "    print(\"general:\",gh)\n",
    "    print(\"specific:\",sh)\n",
    "    \n",
    "learn(concepts,target)    "
   ]
  },
  {
   "cell_type": "code",
   "execution_count": 67,
   "id": "3ce83cce",
   "metadata": {},
   "outputs": [
    {
     "data": {
      "text/html": [
       "<div>\n",
       "<style scoped>\n",
       "    .dataframe tbody tr th:only-of-type {\n",
       "        vertical-align: middle;\n",
       "    }\n",
       "\n",
       "    .dataframe tbody tr th {\n",
       "        vertical-align: top;\n",
       "    }\n",
       "\n",
       "    .dataframe thead th {\n",
       "        text-align: right;\n",
       "    }\n",
       "</style>\n",
       "<table border=\"1\" class=\"dataframe\">\n",
       "  <thead>\n",
       "    <tr style=\"text-align: right;\">\n",
       "      <th></th>\n",
       "      <th>Sno</th>\n",
       "      <th>colour</th>\n",
       "      <th>Toughness</th>\n",
       "      <th>Fungus</th>\n",
       "      <th>Appearance</th>\n",
       "      <th>Poisonous</th>\n",
       "    </tr>\n",
       "  </thead>\n",
       "  <tbody>\n",
       "    <tr>\n",
       "      <th>0</th>\n",
       "      <td>1</td>\n",
       "      <td>Green</td>\n",
       "      <td>Hard</td>\n",
       "      <td>No</td>\n",
       "      <td>Wrinkled</td>\n",
       "      <td>Yes</td>\n",
       "    </tr>\n",
       "    <tr>\n",
       "      <th>1</th>\n",
       "      <td>2</td>\n",
       "      <td>Green</td>\n",
       "      <td>Hard</td>\n",
       "      <td>Yes</td>\n",
       "      <td>Smooth</td>\n",
       "      <td>No</td>\n",
       "    </tr>\n",
       "    <tr>\n",
       "      <th>2</th>\n",
       "      <td>3</td>\n",
       "      <td>Brown</td>\n",
       "      <td>soft</td>\n",
       "      <td>No</td>\n",
       "      <td>Wrinkled</td>\n",
       "      <td>No</td>\n",
       "    </tr>\n",
       "    <tr>\n",
       "      <th>3</th>\n",
       "      <td>4</td>\n",
       "      <td>Orange</td>\n",
       "      <td>Hard</td>\n",
       "      <td>No</td>\n",
       "      <td>Wrinkled</td>\n",
       "      <td>Yes</td>\n",
       "    </tr>\n",
       "    <tr>\n",
       "      <th>4</th>\n",
       "      <td>5</td>\n",
       "      <td>Green</td>\n",
       "      <td>soft</td>\n",
       "      <td>Yes</td>\n",
       "      <td>Smooth</td>\n",
       "      <td>Yes</td>\n",
       "    </tr>\n",
       "    <tr>\n",
       "      <th>5</th>\n",
       "      <td>6</td>\n",
       "      <td>Green</td>\n",
       "      <td>Hard</td>\n",
       "      <td>Yes</td>\n",
       "      <td>Wrinkled</td>\n",
       "      <td>Yes</td>\n",
       "    </tr>\n",
       "    <tr>\n",
       "      <th>6</th>\n",
       "      <td>7</td>\n",
       "      <td>Orange</td>\n",
       "      <td>Hard</td>\n",
       "      <td>No</td>\n",
       "      <td>Wrinkled</td>\n",
       "      <td>Yes</td>\n",
       "    </tr>\n",
       "    <tr>\n",
       "      <th>7</th>\n",
       "      <td>8</td>\n",
       "      <td>Green</td>\n",
       "      <td>Hard</td>\n",
       "      <td>No</td>\n",
       "      <td>Wrinkled</td>\n",
       "      <td>No</td>\n",
       "    </tr>\n",
       "  </tbody>\n",
       "</table>\n",
       "</div>"
      ],
      "text/plain": [
       "   Sno  colour Toughness Fungus Appearance Poisonous\n",
       "0    1   Green      Hard     No   Wrinkled       Yes\n",
       "1    2   Green      Hard    Yes     Smooth        No\n",
       "2    3   Brown      soft     No   Wrinkled        No\n",
       "3    4  Orange      Hard     No   Wrinkled       Yes\n",
       "4    5  Green       soft    Yes     Smooth       Yes\n",
       "5    6   Green      Hard    Yes   Wrinkled       Yes\n",
       "6    7  Orange      Hard     No   Wrinkled       Yes\n",
       "7    8   Green      Hard     No   Wrinkled        No"
      ]
     },
     "execution_count": 67,
     "metadata": {},
     "output_type": "execute_result"
    }
   ],
   "source": [
    "df = pd.read_csv(\"Fungus.csv\")\n",
    "df"
   ]
  },
  {
   "cell_type": "code",
   "execution_count": 68,
   "id": "3fdeeda6",
   "metadata": {},
   "outputs": [
    {
     "name": "stdout",
     "output_type": "stream",
     "text": [
      "[['Green' 'Hard' 'No' 'Wrinkled']\n",
      " ['Green' 'Hard' 'Yes' 'Smooth']\n",
      " ['Brown' 'soft' 'No' 'Wrinkled']\n",
      " ['Orange' 'Hard' 'No' 'Wrinkled']\n",
      " ['Green ' 'soft' 'Yes' 'Smooth']\n",
      " ['Green' 'Hard' 'Yes' 'Wrinkled']\n",
      " ['Orange' 'Hard' 'No' 'Wrinkled']\n",
      " ['Green' 'Hard' 'No' 'Wrinkled']] \n",
      "\n",
      "['Yes' 'No' 'No' 'Yes' 'Yes' 'Yes' 'Yes' 'No']\n"
     ]
    }
   ],
   "source": [
    "con = np.array(df)[:,1:-1]\n",
    "tar = np.array(df)[:,-1]\n",
    "\n",
    "print(con,\"\\n\")\n",
    "print(tar)"
   ]
  },
  {
   "cell_type": "code",
   "execution_count": 69,
   "id": "43c2906a",
   "metadata": {},
   "outputs": [
    {
     "name": "stdout",
     "output_type": "stream",
     "text": [
      "sh:  ['Green' 'Hard' 'No' 'Wrinkled'] \n",
      "\n",
      "gh:  [['?', '?', '?', '?'], ['?', '?', '?', '?'], ['?', '?', '?', '?'], ['?', '?', '?', '?']] \n",
      "\n",
      "general: [['?', '?', '?', '?'], ['?', '?', '?', '?'], ['?', '?', '?', '?'], ['?', '?', '?', '?']]\n",
      "specific: ['?' '?' '?' '?']\n"
     ]
    }
   ],
   "source": [
    "learn(con,tar)"
   ]
  },
  {
   "cell_type": "code",
   "execution_count": null,
   "id": "04e1c234",
   "metadata": {},
   "outputs": [],
   "source": []
  }
 ],
 "metadata": {
  "kernelspec": {
   "display_name": "Python 3 (ipykernel)",
   "language": "python",
   "name": "python3"
  },
  "language_info": {
   "codemirror_mode": {
    "name": "ipython",
    "version": 3
   },
   "file_extension": ".py",
   "mimetype": "text/x-python",
   "name": "python",
   "nbconvert_exporter": "python",
   "pygments_lexer": "ipython3",
   "version": "3.9.13"
  }
 },
 "nbformat": 4,
 "nbformat_minor": 5
}
