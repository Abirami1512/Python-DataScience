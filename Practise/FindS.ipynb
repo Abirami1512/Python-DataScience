{
 "cells": [
  {
   "cell_type": "code",
   "execution_count": 1,
   "id": "5bd93f3e",
   "metadata": {},
   "outputs": [],
   "source": [
    "import numpy as np\n",
    "import pandas as pd"
   ]
  },
  {
   "cell_type": "code",
   "execution_count": 2,
   "id": "168eb430",
   "metadata": {},
   "outputs": [
    {
     "data": {
      "text/html": [
       "<div>\n",
       "<style scoped>\n",
       "    .dataframe tbody tr th:only-of-type {\n",
       "        vertical-align: middle;\n",
       "    }\n",
       "\n",
       "    .dataframe tbody tr th {\n",
       "        vertical-align: top;\n",
       "    }\n",
       "\n",
       "    .dataframe thead th {\n",
       "        text-align: right;\n",
       "    }\n",
       "</style>\n",
       "<table border=\"1\" class=\"dataframe\">\n",
       "  <thead>\n",
       "    <tr style=\"text-align: right;\">\n",
       "      <th></th>\n",
       "      <th>Sno</th>\n",
       "      <th>colour</th>\n",
       "      <th>Toughness</th>\n",
       "      <th>Fungus</th>\n",
       "      <th>Appearance</th>\n",
       "      <th>Poisonous</th>\n",
       "    </tr>\n",
       "  </thead>\n",
       "  <tbody>\n",
       "    <tr>\n",
       "      <th>0</th>\n",
       "      <td>1</td>\n",
       "      <td>Green</td>\n",
       "      <td>Hard</td>\n",
       "      <td>No</td>\n",
       "      <td>Wrinkled</td>\n",
       "      <td>Yes</td>\n",
       "    </tr>\n",
       "    <tr>\n",
       "      <th>1</th>\n",
       "      <td>2</td>\n",
       "      <td>Green</td>\n",
       "      <td>Hard</td>\n",
       "      <td>Yes</td>\n",
       "      <td>Smooth</td>\n",
       "      <td>No</td>\n",
       "    </tr>\n",
       "    <tr>\n",
       "      <th>2</th>\n",
       "      <td>3</td>\n",
       "      <td>Brown</td>\n",
       "      <td>soft</td>\n",
       "      <td>No</td>\n",
       "      <td>Wrinkled</td>\n",
       "      <td>No</td>\n",
       "    </tr>\n",
       "    <tr>\n",
       "      <th>3</th>\n",
       "      <td>4</td>\n",
       "      <td>Orange</td>\n",
       "      <td>Hard</td>\n",
       "      <td>No</td>\n",
       "      <td>Wrinkled</td>\n",
       "      <td>Yes</td>\n",
       "    </tr>\n",
       "    <tr>\n",
       "      <th>4</th>\n",
       "      <td>5</td>\n",
       "      <td>Green</td>\n",
       "      <td>soft</td>\n",
       "      <td>Yes</td>\n",
       "      <td>Smooth</td>\n",
       "      <td>Yes</td>\n",
       "    </tr>\n",
       "    <tr>\n",
       "      <th>5</th>\n",
       "      <td>6</td>\n",
       "      <td>Green</td>\n",
       "      <td>Hard</td>\n",
       "      <td>Yes</td>\n",
       "      <td>Wrinkled</td>\n",
       "      <td>Yes</td>\n",
       "    </tr>\n",
       "    <tr>\n",
       "      <th>6</th>\n",
       "      <td>7</td>\n",
       "      <td>Orange</td>\n",
       "      <td>Hard</td>\n",
       "      <td>No</td>\n",
       "      <td>Wrinkled</td>\n",
       "      <td>Yes</td>\n",
       "    </tr>\n",
       "    <tr>\n",
       "      <th>7</th>\n",
       "      <td>8</td>\n",
       "      <td>Green</td>\n",
       "      <td>Hard</td>\n",
       "      <td>No</td>\n",
       "      <td>Wrinkled</td>\n",
       "      <td>No</td>\n",
       "    </tr>\n",
       "  </tbody>\n",
       "</table>\n",
       "</div>"
      ],
      "text/plain": [
       "   Sno  colour Toughness Fungus Appearance Poisonous\n",
       "0    1   Green      Hard     No   Wrinkled       Yes\n",
       "1    2   Green      Hard    Yes     Smooth        No\n",
       "2    3   Brown      soft     No   Wrinkled        No\n",
       "3    4  Orange      Hard     No   Wrinkled       Yes\n",
       "4    5  Green       soft    Yes     Smooth       Yes\n",
       "5    6   Green      Hard    Yes   Wrinkled       Yes\n",
       "6    7  Orange      Hard     No   Wrinkled       Yes\n",
       "7    8   Green      Hard     No   Wrinkled        No"
      ]
     },
     "execution_count": 2,
     "metadata": {},
     "output_type": "execute_result"
    }
   ],
   "source": [
    "data = pd.read_csv(\"Fungus.csv\")\n",
    "data"
   ]
  },
  {
   "cell_type": "code",
   "execution_count": 10,
   "id": "88ca1e40",
   "metadata": {},
   "outputs": [
    {
     "name": "stdout",
     "output_type": "stream",
     "text": [
      "[['Green' 'Hard' 'No' 'Wrinkled']\n",
      " ['Green' 'Hard' 'Yes' 'Smooth']\n",
      " ['Brown' 'soft' 'No' 'Wrinkled']\n",
      " ['Orange' 'Hard' 'No' 'Wrinkled']\n",
      " ['Green ' 'soft' 'Yes' 'Smooth']\n",
      " ['Green' 'Hard' 'Yes' 'Wrinkled']\n",
      " ['Orange' 'Hard' 'No' 'Wrinkled']\n",
      " ['Green' 'Hard' 'No' 'Wrinkled']]\n",
      "\n",
      "['Yes' 'No' 'No' 'Yes' 'Yes' 'Yes' 'Yes' 'No']\n"
     ]
    }
   ],
   "source": [
    "concepts = np.array(data)[:,1:-1]\n",
    "target = np.array(data)[:,-1]\n",
    "\n",
    "print(concepts)\n",
    "print()\n",
    "print(target)"
   ]
  },
  {
   "cell_type": "code",
   "execution_count": 13,
   "id": "3d9660cb",
   "metadata": {},
   "outputs": [],
   "source": [
    "def train(con,tar):\n",
    "    # selecting the specific hypothesis\n",
    "    for i,val in enumerate(tar):\n",
    "        if val == 'Yes':\n",
    "            sh = con[i]\n",
    "            break # don't forget this break!!!\n",
    "    \n",
    "    print(\"Initial specific hypo: \",sh)\n",
    "    \n",
    "    #updating the specific hypo\n",
    "    for i,h in enumerate(con):\n",
    "        print(con[i])\n",
    "        #we care only about +ve samples\n",
    "        if tar[i] == 'Yes':\n",
    "            for x in range(len(sh)):\n",
    "                if h[x] != sh[x]:\n",
    "                    sh[x] = '?'\n",
    "                else:\n",
    "                    pass\n",
    "        print(sh)\n",
    "        print()\n",
    "    \n",
    "    return sh"
   ]
  },
  {
   "cell_type": "code",
   "execution_count": 14,
   "id": "f969df2c",
   "metadata": {},
   "outputs": [
    {
     "name": "stdout",
     "output_type": "stream",
     "text": [
      "Initial specific hypo:  ['Green' 'Hard' 'No' 'Wrinkled']\n",
      "['Green' 'Hard' 'No' 'Wrinkled']\n",
      "['Green' 'Hard' 'No' 'Wrinkled']\n",
      "\n",
      "['Green' 'Hard' 'Yes' 'Smooth']\n",
      "['Green' 'Hard' 'No' 'Wrinkled']\n",
      "\n",
      "['Brown' 'soft' 'No' 'Wrinkled']\n",
      "['Green' 'Hard' 'No' 'Wrinkled']\n",
      "\n",
      "['Orange' 'Hard' 'No' 'Wrinkled']\n",
      "['?' 'Hard' 'No' 'Wrinkled']\n",
      "\n",
      "['Green ' 'soft' 'Yes' 'Smooth']\n",
      "['?' '?' '?' '?']\n",
      "\n",
      "['Green' 'Hard' 'Yes' 'Wrinkled']\n",
      "['?' '?' '?' '?']\n",
      "\n",
      "['?' '?' '?' '?']\n",
      "['?' '?' '?' '?']\n",
      "\n",
      "['Green' 'Hard' 'No' 'Wrinkled']\n",
      "['?' '?' '?' '?']\n",
      "\n",
      "['?' '?' '?' '?']\n"
     ]
    }
   ],
   "source": [
    "print(train(concepts,target))"
   ]
  },
  {
   "cell_type": "code",
   "execution_count": null,
   "id": "decf92ac",
   "metadata": {},
   "outputs": [],
   "source": []
  }
 ],
 "metadata": {
  "kernelspec": {
   "display_name": "Python 3 (ipykernel)",
   "language": "python",
   "name": "python3"
  },
  "language_info": {
   "codemirror_mode": {
    "name": "ipython",
    "version": 3
   },
   "file_extension": ".py",
   "mimetype": "text/x-python",
   "name": "python",
   "nbconvert_exporter": "python",
   "pygments_lexer": "ipython3",
   "version": "3.9.13"
  }
 },
 "nbformat": 4,
 "nbformat_minor": 5
}
