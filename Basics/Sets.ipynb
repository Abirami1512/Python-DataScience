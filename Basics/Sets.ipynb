{
 "cells": [
  {
   "cell_type": "code",
   "execution_count": 3,
   "id": "cb72f030",
   "metadata": {},
   "outputs": [
    {
     "name": "stdout",
     "output_type": "stream",
     "text": [
      "{'apple', 'banana', 'mango'}\n"
     ]
    }
   ],
   "source": [
    "myset = {\"apple\",\"banana\",\"mango\"}\n",
    "#print(myset[1]) 'set' object is not subscriptable\n",
    "print(myset)"
   ]
  },
  {
   "cell_type": "code",
   "execution_count": 4,
   "id": "39363b10",
   "metadata": {},
   "outputs": [
    {
     "name": "stdout",
     "output_type": "stream",
     "text": [
      "{'apple', 'banana', 'mango'}\n"
     ]
    }
   ],
   "source": [
    "myset2 =  {\"apple\",\"banana\",\"mango\",\"apple\"}\n",
    "print(myset2)"
   ]
  },
  {
   "cell_type": "code",
   "execution_count": 5,
   "id": "e825d56d",
   "metadata": {},
   "outputs": [
    {
     "name": "stdout",
     "output_type": "stream",
     "text": [
      "{False, 1, 2, 3, 'hello', 'mango'}\n"
     ]
    }
   ],
   "source": [
    "newset = {\"hello\",1,True,False,0,2,3,\"mango\"}\n",
    "print(newset)\n",
    "# 0 and False is same\n",
    "# 1 and True is same"
   ]
  },
  {
   "cell_type": "code",
   "execution_count": 6,
   "id": "75c5f8f7",
   "metadata": {},
   "outputs": [
    {
     "name": "stdout",
     "output_type": "stream",
     "text": [
      "False\n",
      "1\n",
      "2\n",
      "3\n",
      "hello\n",
      "mango\n"
     ]
    }
   ],
   "source": [
    "for x in newset:\n",
    "    print(x)"
   ]
  },
  {
   "cell_type": "code",
   "execution_count": 7,
   "id": "7caffd9e",
   "metadata": {},
   "outputs": [
    {
     "name": "stdout",
     "output_type": "stream",
     "text": [
      "Present\n"
     ]
    }
   ],
   "source": [
    "if \"apple\" in myset:\n",
    "    print(\"Present\")\n",
    "else:\n",
    "    print(\"Absent\")"
   ]
  },
  {
   "cell_type": "code",
   "execution_count": 9,
   "id": "4039adba",
   "metadata": {},
   "outputs": [
    {
     "name": "stdout",
     "output_type": "stream",
     "text": [
      "{'apple', 'orange', 'banana', 'mango'}\n"
     ]
    }
   ],
   "source": [
    "#adding new items\n",
    "\n",
    "myset.add(\"orange\")\n",
    "print(myset)"
   ]
  },
  {
   "cell_type": "code",
   "execution_count": 21,
   "id": "efbd203f",
   "metadata": {},
   "outputs": [
    {
     "name": "stdout",
     "output_type": "stream",
     "text": [
      "{False, 1, 2, 3, 'pineapple', 'mango', 'apple', 'banana', 'hello', 'cherry', 'orange', 'grapes'}\n"
     ]
    }
   ],
   "source": [
    "#adding 2 sets\n",
    "\n",
    "myset.update(newset)\n",
    "print(myset)"
   ]
  },
  {
   "cell_type": "code",
   "execution_count": 12,
   "id": "bdc0c18c",
   "metadata": {},
   "outputs": [
    {
     "name": "stdout",
     "output_type": "stream",
     "text": [
      "['pineapple', 'mango', 'cherry', 'grapes', 'pineapple']\n"
     ]
    }
   ],
   "source": [
    "list = [\"pineapple\",\"mango\",\"cherry\",\"grapes\",\"pineapple\"]\n",
    "print(list)"
   ]
  },
  {
   "cell_type": "code",
   "execution_count": 22,
   "id": "8eef42ec",
   "metadata": {},
   "outputs": [
    {
     "name": "stdout",
     "output_type": "stream",
     "text": [
      "{False, 1, 2, 3, 'pineapple', 'mango', 'apple', 'banana', 'hello', 'cherry', 'orange', 'grapes'}\n"
     ]
    }
   ],
   "source": [
    "myset.update(list)\n",
    "print(myset)"
   ]
  },
  {
   "cell_type": "code",
   "execution_count": 23,
   "id": "62f60d00",
   "metadata": {},
   "outputs": [
    {
     "name": "stdout",
     "output_type": "stream",
     "text": [
      "{'pineapple', 'mango', 'apple', 'banana', 'hello', 'cherry', 'orange', 'grapes'}\n"
     ]
    }
   ],
   "source": [
    "myset.remove(False)\n",
    "myset.remove(1)\n",
    "myset.remove(2)\n",
    "myset.remove(3)\n",
    "print(myset)"
   ]
  },
  {
   "cell_type": "code",
   "execution_count": 26,
   "id": "d75340b6",
   "metadata": {},
   "outputs": [
    {
     "name": "stdout",
     "output_type": "stream",
     "text": [
      "{'pineapple', 'mango', 'apple', 'banana', 'hello', 'cherry', 'orange', 'grapes'}\n"
     ]
    }
   ],
   "source": [
    "# myset.remove(\"apricot\") will throw an error\n",
    "myset.discard(\"apricot\") # will not throw an error\n",
    "print(myset)"
   ]
  },
  {
   "cell_type": "code",
   "execution_count": null,
   "id": "70935564",
   "metadata": {},
   "outputs": [],
   "source": [
    "# see cherryTree notes and try out new built in methods"
   ]
  }
 ],
 "metadata": {
  "kernelspec": {
   "display_name": "Python 3 (ipykernel)",
   "language": "python",
   "name": "python3"
  },
  "language_info": {
   "codemirror_mode": {
    "name": "ipython",
    "version": 3
   },
   "file_extension": ".py",
   "mimetype": "text/x-python",
   "name": "python",
   "nbconvert_exporter": "python",
   "pygments_lexer": "ipython3",
   "version": "3.9.13"
  }
 },
 "nbformat": 4,
 "nbformat_minor": 5
}
