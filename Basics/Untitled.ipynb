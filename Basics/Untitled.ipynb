{
 "cells": [
  {
   "cell_type": "code",
   "execution_count": 4,
   "id": "6dbd2679",
   "metadata": {},
   "outputs": [
    {
     "name": "stdout",
     "output_type": "stream",
     "text": [
      "equal size:  [1, 2, 3, 4, 5, 6, 7, 8, 9, 10]\n",
      "Unequal size:  [10, 20, 30, 40, 50, 60, 70, 80, 90]\n",
      "Unequal size:  [20, 10, 40, 30, 60, 50, 70, 80, 90]\n",
      "Unequal size:  [10, 20]\n"
     ]
    }
   ],
   "source": [
    "# two lists are given\n",
    "# a third list must be created such that the values is alternating values of 1st 2 arrays in the same order\n",
    "\n",
    "def createNewList(a,b):\n",
    "    \n",
    "    m = len(a) + len(b)\n",
    "    \n",
    "    i = 0\n",
    "    j = 0\n",
    "    \n",
    "    new = []\n",
    "    for k in range(0,m):\n",
    "        if i < len(a):\n",
    "            new.append(a[i])\n",
    "            i = i + 1\n",
    "        \n",
    "        if j < len(b):\n",
    "            new.append(b[j])\n",
    "            j = j + 1\n",
    "    return new\n",
    "\n",
    "a = [1,3,5,7,9]\n",
    "b = [2,4,6,8,10]\n",
    "\n",
    "c = [10,30,50]\n",
    "d = [20,40,60,70,80,90]\n",
    "\n",
    "e = [10,30,50]\n",
    "f = [20,40,60,70,80,90]\n",
    "\n",
    "g = [10]\n",
    "h = [20]\n",
    "\n",
    "\n",
    "n1 = createNewList(a,b)\n",
    "print(\"equal size: \",n1)\n",
    "\n",
    "n2 = createNewList(c,d)\n",
    "print(\"Unequal size: \",n2)\n",
    "\n",
    "n3 = createNewList(f,e)\n",
    "print(\"Unequal size: \",n3)\n",
    "\n",
    "n3 = createNewList(g,h)\n",
    "print(\"Unequal size: \",n3)\n",
    "        "
   ]
  },
  {
   "cell_type": "code",
   "execution_count": null,
   "id": "fd6968e5",
   "metadata": {},
   "outputs": [],
   "source": []
  }
 ],
 "metadata": {
  "kernelspec": {
   "display_name": "Python 3 (ipykernel)",
   "language": "python",
   "name": "python3"
  },
  "language_info": {
   "codemirror_mode": {
    "name": "ipython",
    "version": 3
   },
   "file_extension": ".py",
   "mimetype": "text/x-python",
   "name": "python",
   "nbconvert_exporter": "python",
   "pygments_lexer": "ipython3",
   "version": "3.9.13"
  }
 },
 "nbformat": 4,
 "nbformat_minor": 5
}
