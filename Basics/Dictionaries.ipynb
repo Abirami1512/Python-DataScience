{
 "cells": [
  {
   "cell_type": "markdown",
   "id": "e2bd0f59",
   "metadata": {},
   "source": [
    "DICTIONARY"
   ]
  },
  {
   "cell_type": "code",
   "execution_count": 4,
   "id": "a45db6f2",
   "metadata": {},
   "outputs": [
    {
     "name": "stdout",
     "output_type": "stream",
     "text": [
      "machine learning   java programming\n"
     ]
    }
   ],
   "source": [
    "dict1 = {301:\"machine learning\",302:\"java programming\"}\n",
    "\n",
    "print(dict1[301],\" \",dict1[302])"
   ]
  },
  {
   "cell_type": "code",
   "execution_count": 5,
   "id": "e32b97a0",
   "metadata": {},
   "outputs": [
    {
     "name": "stdout",
     "output_type": "stream",
     "text": [
      "{301: 'machine learning', 302: 'java programming', 809: 'Software engineering'}\n"
     ]
    }
   ],
   "source": [
    "dict1[809] = \"Software engineering\"\n",
    "print(dict1)"
   ]
  },
  {
   "cell_type": "code",
   "execution_count": 6,
   "id": "a5fa5b2d",
   "metadata": {},
   "outputs": [
    {
     "name": "stdout",
     "output_type": "stream",
     "text": [
      "{302: 'java programming', 809: 'Software engineering'}\n"
     ]
    }
   ],
   "source": [
    "del dict1[301]\n",
    "print(dict1)"
   ]
  },
  {
   "cell_type": "code",
   "execution_count": 7,
   "id": "10afa56c",
   "metadata": {},
   "outputs": [
    {
     "name": "stdout",
     "output_type": "stream",
     "text": [
      "{302: 'java programming', 809: 'machine learning'}\n"
     ]
    }
   ],
   "source": [
    "dict1[809] = \"machine learning\"\n",
    "print(dict1)"
   ]
  },
  {
   "cell_type": "code",
   "execution_count": 9,
   "id": "41499e66",
   "metadata": {},
   "outputs": [
    {
     "name": "stdout",
     "output_type": "stream",
     "text": [
      "{302: 'deep learning', 809: 'machine learning', 405: 'cryptography'}\n"
     ]
    }
   ],
   "source": [
    "dict1[405] = \"cryptography\"\n",
    "dict1[302] = \"deep learning\" # value gets overwritten\n",
    "\n",
    "print(dict1)"
   ]
  },
  {
   "cell_type": "code",
   "execution_count": 10,
   "id": "4f825207",
   "metadata": {},
   "outputs": [
    {
     "name": "stdout",
     "output_type": "stream",
     "text": [
      "Key: 302 value: deep learning\n",
      "Key: 809 value: machine learning\n",
      "Key: 405 value: cryptography\n"
     ]
    }
   ],
   "source": [
    "#iterating trough the dictionary\n",
    "\n",
    "for i in dict1:\n",
    "    print(\"Key:\",i,\"value:\",dict1[i])"
   ]
  },
  {
   "cell_type": "code",
   "execution_count": 12,
   "id": "43438904",
   "metadata": {},
   "outputs": [
    {
     "name": "stdout",
     "output_type": "stream",
     "text": [
      "key: 302 Value: deep learning\n",
      "key: 809 Value: machine learning\n",
      "key: 405 Value: cryptography\n"
     ]
    }
   ],
   "source": [
    "for k,v in dict1.items():\n",
    "    print(\"key:\",k,\"Value:\",v)"
   ]
  },
  {
   "cell_type": "code",
   "execution_count": 14,
   "id": "a720a73f",
   "metadata": {},
   "outputs": [
    {
     "name": "stdout",
     "output_type": "stream",
     "text": [
      "False\n",
      "True\n"
     ]
    }
   ],
   "source": [
    "print(\"cryptography\" in dict1) # cannot check for values\n",
    "print(405 in dict1) # can check for keys"
   ]
  },
  {
   "cell_type": "code",
   "execution_count": 15,
   "id": "9a5f3a34",
   "metadata": {},
   "outputs": [
    {
     "name": "stdout",
     "output_type": "stream",
     "text": [
      "{}\n"
     ]
    }
   ],
   "source": [
    "dict1.clear()\n",
    "print(dict1)"
   ]
  },
  {
   "cell_type": "code",
   "execution_count": null,
   "id": "10d2121f",
   "metadata": {},
   "outputs": [],
   "source": []
  }
 ],
 "metadata": {
  "kernelspec": {
   "display_name": "Python 3 (ipykernel)",
   "language": "python",
   "name": "python3"
  },
  "language_info": {
   "codemirror_mode": {
    "name": "ipython",
    "version": 3
   },
   "file_extension": ".py",
   "mimetype": "text/x-python",
   "name": "python",
   "nbconvert_exporter": "python",
   "pygments_lexer": "ipython3",
   "version": "3.9.13"
  }
 },
 "nbformat": 4,
 "nbformat_minor": 5
}
