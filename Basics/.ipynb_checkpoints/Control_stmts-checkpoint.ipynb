{
 "cells": [
  {
   "cell_type": "markdown",
   "id": "42df2d42",
   "metadata": {},
   "source": [
    "If statements"
   ]
  },
  {
   "cell_type": "code",
   "execution_count": 10,
   "id": "aaf4840c",
   "metadata": {},
   "outputs": [
    {
     "name": "stdout",
     "output_type": "stream",
     "text": [
      "Enter a number: 19\n"
     ]
    }
   ],
   "source": [
    "num = input(\"Enter a number: \")"
   ]
  },
  {
   "cell_type": "code",
   "execution_count": 11,
   "id": "fada66d9",
   "metadata": {},
   "outputs": [
    {
     "name": "stdout",
     "output_type": "stream",
     "text": [
      "19\n"
     ]
    }
   ],
   "source": [
    "print(num)"
   ]
  },
  {
   "cell_type": "code",
   "execution_count": 15,
   "id": "e07554e6",
   "metadata": {},
   "outputs": [
    {
     "name": "stdout",
     "output_type": "stream",
     "text": [
      "The number is odd\n",
      "19\n"
     ]
    }
   ],
   "source": [
    "num = int(num)\n",
    "if not num%2 == 0:\n",
    "    print(\"The number is odd\")\n",
    "else:\n",
    "    print(\"The number is even\")\n",
    "print(num)"
   ]
  },
  {
   "cell_type": "code",
   "execution_count": 18,
   "id": "18edfd70",
   "metadata": {},
   "outputs": [
    {
     "name": "stdout",
     "output_type": "stream",
     "text": [
      "Enter a dish: Taco\n",
      "Food not in our menu\n"
     ]
    }
   ],
   "source": [
    "indian = [\"Naan\",\"idli\",\"Dosa\",\"samosa\",\"Puri\"]\n",
    "chinese = [\"Noodles\",\"momos\",\"Manchurian\",\"Spring rolls\"]\n",
    "italian = [\"Pizza\",\"Pasta\",\"Lasagna\"]\n",
    "\n",
    "food = input(\"Enter a dish: \")\n",
    "\n",
    "if food in indian:\n",
    "    print(\"Indian\")\n",
    "elif food in chinese:\n",
    "    print(\"Chinese\")\n",
    "elif food in italian:\n",
    "    print(\"Italian\")\n",
    "else:\n",
    "    print(\"Food not in our menu\")\n",
    "    "
   ]
  },
  {
   "cell_type": "markdown",
   "id": "0016c824",
   "metadata": {},
   "source": [
    "For loop"
   ]
  },
  {
   "cell_type": "code",
   "execution_count": 30,
   "id": "4827ca3f",
   "metadata": {},
   "outputs": [
    {
     "name": "stdout",
     "output_type": "stream",
     "text": [
      "108359\n"
     ]
    }
   ],
   "source": [
    "expense = [267,9872,89787,167,8176,90]\n",
    "total = 0\n",
    "\n",
    "for n in expense:\n",
    "    total = total + n\n",
    "    \n",
    "print(total)"
   ]
  },
  {
   "cell_type": "code",
   "execution_count": 31,
   "id": "854df4a6",
   "metadata": {},
   "outputs": [
    {
     "name": "stdout",
     "output_type": "stream",
     "text": [
      "1\n",
      "3\n",
      "5\n",
      "7\n",
      "9\n"
     ]
    }
   ],
   "source": [
    "for i in range(1,10,2): # range(start val, end val, step val)\n",
    "    print(i)"
   ]
  },
  {
   "cell_type": "code",
   "execution_count": 32,
   "id": "a5af10d7",
   "metadata": {},
   "outputs": [
    {
     "name": "stdout",
     "output_type": "stream",
     "text": [
      "month: 1  Expense: 267\n",
      "month: 2  Expense: 9872\n",
      "month: 3  Expense: 89787\n",
      "month: 4  Expense: 167\n",
      "month: 5  Expense: 8176\n",
      "month: 6  Expense: 90\n"
     ]
    }
   ],
   "source": [
    "for i in range(len(expense)):\n",
    "    print(\"month:\",i+1,\" Expense:\",expense[i])\n"
   ]
  },
  {
   "cell_type": "code",
   "execution_count": 33,
   "id": "653d71a3",
   "metadata": {},
   "outputs": [
    {
     "name": "stdout",
     "output_type": "stream",
     "text": [
      "100093\n"
     ]
    }
   ],
   "source": [
    "tot = 0\n",
    "for i in expense:\n",
    "    if(tot > 100000):\n",
    "        break\n",
    "    \n",
    "    tot = tot + i\n",
    "    \n",
    "print(tot)"
   ]
  },
  {
   "cell_type": "code",
   "execution_count": 35,
   "id": "59d28185",
   "metadata": {},
   "outputs": [
    {
     "name": "stdout",
     "output_type": "stream",
     "text": [
      "1\n",
      "2\n",
      "3\n",
      "4\n"
     ]
    }
   ],
   "source": [
    "for i in range(1,5): # range excludes second index\n",
    "    print(i)"
   ]
  },
  {
   "cell_type": "code",
   "execution_count": 36,
   "id": "adbf6f1b",
   "metadata": {},
   "outputs": [
    {
     "name": "stdout",
     "output_type": "stream",
     "text": [
      "1\n",
      "9\n",
      "25\n",
      "49\n",
      "81\n"
     ]
    }
   ],
   "source": [
    "#skip printing squares of 2\n",
    "for i in range(1,11):\n",
    "    if i%2==0:\n",
    "        continue\n",
    "    print(i**2) # for squares dont do this, just multiply"
   ]
  },
  {
   "cell_type": "markdown",
   "id": "08b3c9d3",
   "metadata": {},
   "source": [
    "FUNCTIONS"
   ]
  },
  {
   "cell_type": "code",
   "execution_count": 7,
   "id": "451de728",
   "metadata": {},
   "outputs": [
    {
     "name": "stdout",
     "output_type": "stream",
     "text": [
      "Exp1: 1300  Exp2:  10000\n",
      "11\n",
      "hello world\n"
     ]
    }
   ],
   "source": [
    "list1 = [100,200,1000]\n",
    "list2 = [400,500,100,9000]\n",
    "\n",
    "def calculate_total(exp):\n",
    "    total = 0 #local variable\n",
    "    for i in exp:\n",
    "        total = total + i\n",
    "    return total\n",
    "\n",
    "exp1 = calculate_total(list1)\n",
    "exp2 = calculate_total(list2)\n",
    "\n",
    "print(\"Exp1:\",exp1,\" Exp2: \",exp2)\n",
    "\n",
    "\n",
    "#word = \"Hello world\"\n",
    "#ret_word = calculate_total(word)\n",
    "#print(ret_word)\n",
    "def summation(a,b):\n",
    "    return a+b\n",
    "\n",
    "print(summation(5,6))\n",
    "print(summation(\"hello \",\"world\"))\n",
    "\n"
   ]
  },
  {
   "cell_type": "code",
   "execution_count": 11,
   "id": "ba11cb2b",
   "metadata": {},
   "outputs": [
    {
     "name": "stdout",
     "output_type": "stream",
     "text": [
      "1: 11\n",
      "2: 0\n",
      "3: hello world\n"
     ]
    }
   ],
   "source": [
    "# DEFAULT ARGUMENTS\n",
    "\n",
    "def sum_two(a=0,b=0):\n",
    "    return a+b\n",
    "\n",
    "print(\"1:\",sum_two(5,6))\n",
    "print(\"2:\",sum_two())\n",
    "print(\"3:\",sum_two(\"hello \",\"world\")) # runs without an issue\n",
    "#print(sum_two(\"hello \")) results in an error because of mismatching types \n"
   ]
  },
  {
   "cell_type": "code",
   "execution_count": 12,
   "id": "4b2f9395",
   "metadata": {},
   "outputs": [
    {
     "name": "stdout",
     "output_type": "stream",
     "text": [
      "1:  27\n",
      "2:  7\n",
      "3:  hello hi Bye bye\n"
     ]
    }
   ],
   "source": [
    "# documentation strings\n",
    "#----> gives a description of what the function does\n",
    "\n",
    "def sum_of_three(a=0,b=0,c=0):\n",
    "    '''\n",
    "    Gives the sum of at max 3 numerical values or\n",
    "    Gives the concatenation of exactly 3 strings\n",
    "    '''\n",
    "    return a+b+c\n",
    "\n",
    "print(\"1: \",sum_of_three(8,9,10))\n",
    "print(\"2: \",sum_of_three(3,4))\n",
    "print(\"3: \",sum_of_three(\"hello \",\"hi \",\"Bye bye\"))"
   ]
  },
  {
   "cell_type": "code",
   "execution_count": null,
   "id": "17342107",
   "metadata": {},
   "outputs": [],
   "source": []
  }
 ],
 "metadata": {
  "kernelspec": {
   "display_name": "Python 3 (ipykernel)",
   "language": "python",
   "name": "python3"
  },
  "language_info": {
   "codemirror_mode": {
    "name": "ipython",
    "version": 3
   },
   "file_extension": ".py",
   "mimetype": "text/x-python",
   "name": "python",
   "nbconvert_exporter": "python",
   "pygments_lexer": "ipython3",
   "version": "3.9.13"
  }
 },
 "nbformat": 4,
 "nbformat_minor": 5
}
