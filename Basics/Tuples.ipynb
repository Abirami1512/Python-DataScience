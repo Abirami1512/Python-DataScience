{
 "cells": [
  {
   "cell_type": "code",
   "execution_count": 1,
   "id": "96f1d38c",
   "metadata": {},
   "outputs": [
    {
     "name": "stdout",
     "output_type": "stream",
     "text": [
      "8 9\n"
     ]
    }
   ],
   "source": [
    "t1 = (8,9)\n",
    "print(t1[0],t1[1])"
   ]
  },
  {
   "cell_type": "code",
   "execution_count": 2,
   "id": "0f0d6d26",
   "metadata": {},
   "outputs": [
    {
     "name": "stdout",
     "output_type": "stream",
     "text": [
      "hello 8\n"
     ]
    }
   ],
   "source": [
    "t2 = (\"hello\", 8)\n",
    "print(t2[0],t2[1])"
   ]
  },
  {
   "cell_type": "code",
   "execution_count": 4,
   "id": "dbd9ef44",
   "metadata": {},
   "outputs": [],
   "source": [
    "#t2[3] = \"welcome\" \n",
    "#results in an error saying: \n",
    "#'tuple' object does not support item assignment"
   ]
  },
  {
   "cell_type": "code",
   "execution_count": 6,
   "id": "961fe828",
   "metadata": {},
   "outputs": [
    {
     "name": "stdout",
     "output_type": "stream",
     "text": [
      "('hello', 'world')\n"
     ]
    }
   ],
   "source": [
    "t2 = (\"hello\",\"world\")\n",
    "print(t2)"
   ]
  },
  {
   "cell_type": "code",
   "execution_count": null,
   "id": "14da98ca",
   "metadata": {},
   "outputs": [],
   "source": []
  }
 ],
 "metadata": {
  "kernelspec": {
   "display_name": "Python 3 (ipykernel)",
   "language": "python",
   "name": "python3"
  },
  "language_info": {
   "codemirror_mode": {
    "name": "ipython",
    "version": 3
   },
   "file_extension": ".py",
   "mimetype": "text/x-python",
   "name": "python",
   "nbconvert_exporter": "python",
   "pygments_lexer": "ipython3",
   "version": "3.9.13"
  }
 },
 "nbformat": 4,
 "nbformat_minor": 5
}
